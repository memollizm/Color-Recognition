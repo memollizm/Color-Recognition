{
 "cells": [
  {
   "cell_type": "markdown",
   "id": "620fbe28-fb19-42f5-921f-bba1a606805a",
   "metadata": {},
   "source": [
    "### Kütüphaneler"
   ]
  },
  {
   "cell_type": "code",
   "execution_count": 318,
   "id": "17cf51a8-553c-4351-a5cf-e1c9ab5950cb",
   "metadata": {},
   "outputs": [],
   "source": [
    "import os\n",
    "import shutil\n",
    "import random\n",
    "from tensorflow.keras.preprocessing.image import ImageDataGenerator\n",
    "from tensorflow.keras import layers, models"
   ]
  },
  {
   "cell_type": "markdown",
   "id": "eee93605-6ad6-4c59-b767-7b2cceb7c9b8",
   "metadata": {},
   "source": [
    "* Veri Seti Dizinleri"
   ]
  },
  {
   "cell_type": "code",
   "execution_count": 321,
   "id": "45429bd7-e01e-4a18-9ae0-6c6fe9edfae2",
   "metadata": {},
   "outputs": [],
   "source": [
    "train_dir = 'dataset/train'\n",
    "validation_dir = 'dataset/validation'"
   ]
  },
  {
   "cell_type": "markdown",
   "id": "83e867ab-4761-40f1-8248-f26dee6da80d",
   "metadata": {},
   "source": [
    "* Veriyi hazırlamak için ImageDataGenerator kullanma"
   ]
  },
  {
   "cell_type": "code",
   "execution_count": 324,
   "id": "7c32c720-0536-4882-8274-06abe81a81a5",
   "metadata": {},
   "outputs": [],
   "source": [
    "train_datagen = ImageDataGenerator(rescale=1.0/255)  # Normalizasyon\n",
    "validation_datagen = ImageDataGenerator(rescale=1.0/255)"
   ]
  },
  {
   "cell_type": "markdown",
   "id": "cc377128-70a5-4751-8db8-f0a8e6e823e2",
   "metadata": {},
   "source": [
    "* Veri akışlarını oluşturma"
   ]
  },
  {
   "cell_type": "code",
   "execution_count": 363,
   "id": "c30b48d1-ae24-4497-ae7b-cae34b8b613d",
   "metadata": {},
   "outputs": [
    {
     "name": "stdout",
     "output_type": "stream",
     "text": [
      "Found 3927 images belonging to 3 classes.\n"
     ]
    }
   ],
   "source": [
    "train_generator = train_datagen.flow_from_directory(\n",
    "    train_dir,\n",
    "    target_size=(28, 28),  \n",
    "    batch_size=32,\n",
    "    class_mode='categorical'  \n",
    ")"
   ]
  },
  {
   "cell_type": "code",
   "execution_count": 365,
   "id": "8a46d013-b0c8-430c-bda6-da7393f54414",
   "metadata": {},
   "outputs": [
    {
     "name": "stdout",
     "output_type": "stream",
     "text": [
      "Found 159 images belonging to 3 classes.\n"
     ]
    }
   ],
   "source": [
    "validation_generator = validation_datagen.flow_from_directory(\n",
    "    validation_dir,\n",
    "    target_size=(28, 28),  \n",
    "    batch_size=32,\n",
    "    class_mode='categorical'  \n",
    ")"
   ]
  },
  {
   "cell_type": "markdown",
   "id": "035eba04-be3f-4f2f-bd7d-b4518fa5d51d",
   "metadata": {},
   "source": [
    "* CNN Modelinin Tanımlanması"
   ]
  },
  {
   "cell_type": "code",
   "execution_count": 368,
   "id": "0a92e0c1-7935-4ea5-a7df-31a3f78f82bc",
   "metadata": {},
   "outputs": [
    {
     "name": "stderr",
     "output_type": "stream",
     "text": [
      "C:\\Users\\PC\\anaconda3\\Lib\\site-packages\\keras\\src\\layers\\convolutional\\base_conv.py:107: UserWarning: Do not pass an `input_shape`/`input_dim` argument to a layer. When using Sequential models, prefer using an `Input(shape)` object as the first layer in the model instead.\n",
      "  super().__init__(activity_regularizer=activity_regularizer, **kwargs)\n"
     ]
    }
   ],
   "source": [
    "model = tf.keras.models.Sequential([\n",
    "    tf.keras.layers.Conv2D(32, (3, 3), activation='relu', input_shape=(28, 28, 3)),\n",
    "    tf.keras.layers.MaxPooling2D(pool_size=(2, 2)),\n",
    "    tf.keras.layers.Conv2D(64, (3, 3), activation='relu'),\n",
    "    tf.keras.layers.MaxPooling2D(pool_size=(2, 2)),\n",
    "    tf.keras.layers.Flatten(),\n",
    "    tf.keras.layers.Dense(128, activation='relu'),\n",
    "    tf.keras.layers.Dense(3, activation='softmax')  # 3 sınıf için\n",
    "])"
   ]
  },
  {
   "cell_type": "markdown",
   "id": "05a79913-3eb1-4e37-9a26-61aa87a5b1dc",
   "metadata": {},
   "source": [
    "* Modeli Derleme"
   ]
  },
  {
   "cell_type": "code",
   "execution_count": 371,
   "id": "fa71c694-1228-4de9-8d28-29eec39f7601",
   "metadata": {},
   "outputs": [],
   "source": [
    "model.compile(loss='categorical_crossentropy', optimizer='adam', metrics=['accuracy'])"
   ]
  },
  {
   "cell_type": "markdown",
   "id": "af126015-1507-48d9-9fb0-1f28f15a251a",
   "metadata": {},
   "source": [
    "* Adım sayıları"
   ]
  },
  {
   "cell_type": "code",
   "execution_count": 374,
   "id": "7735a59f-0e8c-466b-baa8-d12ee8e33e07",
   "metadata": {},
   "outputs": [],
   "source": [
    "train_steps = train_generator.samples // train_generator.batch_size\n",
    "validation_steps = validation_generator.samples // validation_generator.batch_size"
   ]
  },
  {
   "cell_type": "markdown",
   "id": "126cf136-a909-4408-832c-a215d5b6f0fd",
   "metadata": {},
   "source": [
    "* Modelin Eğitilmesi"
   ]
  },
  {
   "cell_type": "code",
   "execution_count": 379,
   "id": "9f47acf9-72b3-4b6a-8923-a903e6f2cb4b",
   "metadata": {},
   "outputs": [
    {
     "name": "stdout",
     "output_type": "stream",
     "text": [
      "Epoch 1/10\n",
      "\u001b[1m122/122\u001b[0m \u001b[32m━━━━━━━━━━━━━━━━━━━━\u001b[0m\u001b[37m\u001b[0m \u001b[1m2s\u001b[0m 13ms/step - accuracy: 1.0000 - loss: 5.4704e-04 - val_accuracy: 1.0000 - val_loss: 6.6947e-04\n",
      "Epoch 2/10\n",
      "\u001b[1m122/122\u001b[0m \u001b[32m━━━━━━━━━━━━━━━━━━━━\u001b[0m\u001b[37m\u001b[0m \u001b[1m0s\u001b[0m 347us/step - accuracy: 1.0000 - loss: 1.3423e-04 - val_accuracy: 1.0000 - val_loss: 4.9949e-04\n",
      "Epoch 3/10\n",
      "\u001b[1m  1/122\u001b[0m \u001b[37m━━━━━━━━━━━━━━━━━━━━\u001b[0m \u001b[1m11s\u001b[0m 96ms/step - accuracy: 1.0000 - loss: 3.5860e-04"
     ]
    },
    {
     "name": "stderr",
     "output_type": "stream",
     "text": [
      "C:\\Users\\PC\\anaconda3\\Lib\\contextlib.py:158: UserWarning: Your input ran out of data; interrupting training. Make sure that your dataset or generator can generate at least `steps_per_epoch * epochs` batches. You may need to use the `.repeat()` function when building your dataset.\n",
      "  self.gen.throw(value)\n"
     ]
    },
    {
     "name": "stdout",
     "output_type": "stream",
     "text": [
      "\u001b[1m122/122\u001b[0m \u001b[32m━━━━━━━━━━━━━━━━━━━━\u001b[0m\u001b[37m\u001b[0m \u001b[1m2s\u001b[0m 12ms/step - accuracy: 1.0000 - loss: 3.5046e-04 - val_accuracy: 1.0000 - val_loss: 5.5142e-04\n",
      "Epoch 4/10\n",
      "\u001b[1m122/122\u001b[0m \u001b[32m━━━━━━━━━━━━━━━━━━━━\u001b[0m\u001b[37m\u001b[0m \u001b[1m0s\u001b[0m 322us/step - accuracy: 1.0000 - loss: 5.0149e-05 - val_accuracy: 1.0000 - val_loss: 1.7303e-04\n",
      "Epoch 5/10\n",
      "\u001b[1m122/122\u001b[0m \u001b[32m━━━━━━━━━━━━━━━━━━━━\u001b[0m\u001b[37m\u001b[0m \u001b[1m2s\u001b[0m 12ms/step - accuracy: 1.0000 - loss: 2.7961e-04 - val_accuracy: 1.0000 - val_loss: 3.6401e-04\n",
      "Epoch 6/10\n",
      "\u001b[1m122/122\u001b[0m \u001b[32m━━━━━━━━━━━━━━━━━━━━\u001b[0m\u001b[37m\u001b[0m \u001b[1m0s\u001b[0m 372us/step - accuracy: 1.0000 - loss: 2.7405e-05 - val_accuracy: 1.0000 - val_loss: 7.6012e-05\n",
      "Epoch 7/10\n",
      "\u001b[1m122/122\u001b[0m \u001b[32m━━━━━━━━━━━━━━━━━━━━\u001b[0m\u001b[37m\u001b[0m \u001b[1m2s\u001b[0m 12ms/step - accuracy: 1.0000 - loss: 2.4567e-04 - val_accuracy: 1.0000 - val_loss: 3.6388e-04\n",
      "Epoch 8/10\n",
      "\u001b[1m122/122\u001b[0m \u001b[32m━━━━━━━━━━━━━━━━━━━━\u001b[0m\u001b[37m\u001b[0m \u001b[1m0s\u001b[0m 334us/step - accuracy: 1.0000 - loss: 2.3669e-04 - val_accuracy: 1.0000 - val_loss: 1.7116e-04\n",
      "Epoch 9/10\n",
      "\u001b[1m122/122\u001b[0m \u001b[32m━━━━━━━━━━━━━━━━━━━━\u001b[0m\u001b[37m\u001b[0m \u001b[1m2s\u001b[0m 12ms/step - accuracy: 1.0000 - loss: 1.5758e-04 - val_accuracy: 1.0000 - val_loss: 2.1804e-04\n",
      "Epoch 10/10\n",
      "\u001b[1m122/122\u001b[0m \u001b[32m━━━━━━━━━━━━━━━━━━━━\u001b[0m\u001b[37m\u001b[0m \u001b[1m0s\u001b[0m 496us/step - accuracy: 1.0000 - loss: 2.2857e-04 - val_accuracy: 1.0000 - val_loss: 2.4144e-04\n"
     ]
    }
   ],
   "source": [
    "history = model.fit(\n",
    "    train_generator,\n",
    "    steps_per_epoch=train_steps,\n",
    "    validation_data=validation_generator,\n",
    "    validation_steps=validation_steps,\n",
    "    epochs=10  \n",
    ")"
   ]
  },
  {
   "cell_type": "code",
   "execution_count": null,
   "id": "c7152719-9347-41f6-a41a-953855a70b68",
   "metadata": {},
   "outputs": [],
   "source": []
  }
 ],
 "metadata": {
  "kernelspec": {
   "display_name": "Python 3 (ipykernel)",
   "language": "python",
   "name": "python3"
  },
  "language_info": {
   "codemirror_mode": {
    "name": "ipython",
    "version": 3
   },
   "file_extension": ".py",
   "mimetype": "text/x-python",
   "name": "python",
   "nbconvert_exporter": "python",
   "pygments_lexer": "ipython3",
   "version": "3.12.3"
  }
 },
 "nbformat": 4,
 "nbformat_minor": 5
}
